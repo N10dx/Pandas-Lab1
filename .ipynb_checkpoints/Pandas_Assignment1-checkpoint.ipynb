{
 "cells": [
  {
   "cell_type": "code",
   "execution_count": 1,
   "id": "d3aaed2d",
   "metadata": {},
   "outputs": [],
   "source": [
    "import pandas as pd"
   ]
  },
  {
   "cell_type": "markdown",
   "id": "c8502047",
   "metadata": {},
   "source": [
    "## Q1: Create a Series with indexes = 1, 2, 3 and has three names."
   ]
  },
  {
   "cell_type": "code",
   "execution_count": 2,
   "id": "dc122631",
   "metadata": {},
   "outputs": [
    {
     "data": {
      "text/plain": [
       "1    mohammed\n",
       "2        saad\n",
       "3          mo\n",
       "dtype: object"
      ]
     },
     "execution_count": 2,
     "metadata": {},
     "output_type": "execute_result"
    }
   ],
   "source": [
    "a=pd.Series(['mohammed','saad','mo'],index=[1,2,3])\n",
    "a"
   ]
  },
  {
   "cell_type": "markdown",
   "id": "443e73f6",
   "metadata": {},
   "source": [
    "## Q2: Change indexes to 11, 12, 13."
   ]
  },
  {
   "cell_type": "code",
   "execution_count": 3,
   "id": "ae224dba",
   "metadata": {},
   "outputs": [
    {
     "data": {
      "text/plain": [
       "11    mohammed\n",
       "12        saad\n",
       "13          mo\n",
       "dtype: object"
      ]
     },
     "execution_count": 3,
     "metadata": {},
     "output_type": "execute_result"
    }
   ],
   "source": [
    "a.index=[11,12,13]\n",
    "a"
   ]
  },
  {
   "cell_type": "markdown",
   "id": "7f562099",
   "metadata": {},
   "source": [
    "## Q3: Retrieve First and second elements."
   ]
  },
  {
   "cell_type": "code",
   "execution_count": 4,
   "id": "bbe9dee3",
   "metadata": {},
   "outputs": [
    {
     "data": {
      "text/plain": [
       "11    mohammed\n",
       "12        saad\n",
       "dtype: object"
      ]
     },
     "execution_count": 4,
     "metadata": {},
     "output_type": "execute_result"
    }
   ],
   "source": [
    "a[0:2]"
   ]
  },
  {
   "cell_type": "markdown",
   "id": "c771754d",
   "metadata": {},
   "source": [
    "## Q4: Add duplicate elements, then remove the duplication."
   ]
  },
  {
   "cell_type": "code",
   "execution_count": 5,
   "id": "cf5a1d1a",
   "metadata": {},
   "outputs": [
    {
     "name": "stdout",
     "output_type": "stream",
     "text": [
      "with duplicates:\n",
      "\n",
      "0    mohammed\n",
      "1        saad\n",
      "2          mo\n",
      "3    mohammed\n",
      "4        saad\n",
      "5          mo\n",
      "6           2\n",
      "dtype: object\n",
      "removed duplicates:\n",
      "\n",
      "0    mohammed\n",
      "1        saad\n",
      "2          mo\n",
      "6           2\n",
      "dtype: object\n"
     ]
    },
    {
     "name": "stderr",
     "output_type": "stream",
     "text": [
      "/var/folders/x5/v3tlskg15f9f7p67b1f0xrmc0000gn/T/ipykernel_19101/4121521165.py:1: FutureWarning: The series.append method is deprecated and will be removed from pandas in a future version. Use pandas.concat instead.\n",
      "  s=a.append(a,ignore_index=True)\n"
     ]
    }
   ],
   "source": [
    "s=a.append(a,ignore_index=True)\n",
    "s[6]=2\n",
    "print(\"with duplicates:\\n\")\n",
    "print(s)\n",
    "s=s.drop_duplicates()\n",
    "print(\"removed duplicates:\\n\")\n",
    "print(s)"
   ]
  },
  {
   "cell_type": "markdown",
   "id": "329164fe",
   "metadata": {},
   "source": [
    "## Q5: Create a Students DataFrame has three columns (ID, Name, GPA)."
   ]
  },
  {
   "cell_type": "code",
   "execution_count": 6,
   "id": "873e1727",
   "metadata": {},
   "outputs": [
    {
     "data": {
      "text/html": [
       "<div>\n",
       "<style scoped>\n",
       "    .dataframe tbody tr th:only-of-type {\n",
       "        vertical-align: middle;\n",
       "    }\n",
       "\n",
       "    .dataframe tbody tr th {\n",
       "        vertical-align: top;\n",
       "    }\n",
       "\n",
       "    .dataframe thead th {\n",
       "        text-align: right;\n",
       "    }\n",
       "</style>\n",
       "<table border=\"1\" class=\"dataframe\">\n",
       "  <thead>\n",
       "    <tr style=\"text-align: right;\">\n",
       "      <th></th>\n",
       "      <th>ID</th>\n",
       "      <th>Name</th>\n",
       "      <th>GPA</th>\n",
       "    </tr>\n",
       "  </thead>\n",
       "  <tbody>\n",
       "  </tbody>\n",
       "</table>\n",
       "</div>"
      ],
      "text/plain": [
       "Empty DataFrame\n",
       "Columns: [ID, Name, GPA]\n",
       "Index: []"
      ]
     },
     "execution_count": 6,
     "metadata": {},
     "output_type": "execute_result"
    }
   ],
   "source": [
    "a=pd.DataFrame(columns=['ID', 'Name', 'GPA'])\n",
    "a"
   ]
  },
  {
   "cell_type": "markdown",
   "id": "2808d244",
   "metadata": {},
   "source": [
    "## Q6: Read educ_figdp_1_Data.csv file and print the head."
   ]
  },
  {
   "cell_type": "code",
   "execution_count": 7,
   "id": "3b0baf98",
   "metadata": {},
   "outputs": [],
   "source": [
    "b=pd.read_csv('educ_figdp_1_Data.csv')\n"
   ]
  },
  {
   "cell_type": "markdown",
   "id": "34574733",
   "metadata": {},
   "source": [
    "## Q7: Give an example shows the difference between loc and slicing?\n",
    "**Note:**\n",
    "- loc use the index labels as references.\n",
    "- slice use the position as references."
   ]
  },
  {
   "cell_type": "code",
   "execution_count": 9,
   "id": "0d5876f7",
   "metadata": {},
   "outputs": [
    {
     "name": "stdout",
     "output_type": "stream",
     "text": [
      "   TIME                            GEO  \\\n",
      "2  2002  European Union (28 countries)   \n",
      "3  2003  European Union (28 countries)   \n",
      "4  2004  European Union (28 countries)   \n",
      "\n",
      "                                            INDIC_ED Value Flag and Footnotes  \n",
      "2  Total public expenditure on education as % of ...  5.00                  e  \n",
      "3  Total public expenditure on education as % of ...  5.03                  e  \n",
      "4  Total public expenditure on education as % of ...  4.95                  e  \n"
     ]
    }
   ],
   "source": [
    "print(b[2:5])#to select indexs\n"
   ]
  },
  {
   "cell_type": "code",
   "execution_count": 10,
   "id": "a735d349",
   "metadata": {},
   "outputs": [
    {
     "name": "stdout",
     "output_type": "stream",
     "text": [
      "2    European Union (28 countries)\n",
      "3    European Union (28 countries)\n",
      "4    European Union (28 countries)\n",
      "5    European Union (28 countries)\n",
      "Name: GEO, dtype: object\n"
     ]
    }
   ],
   "source": [
    "print(b.loc[2:5,'GEO'])#to select indexs and coulmns"
   ]
  }
 ],
 "metadata": {
  "kernelspec": {
   "display_name": "Python 3 (ipykernel)",
   "language": "python",
   "name": "python3"
  },
  "language_info": {
   "codemirror_mode": {
    "name": "ipython",
    "version": 3
   },
   "file_extension": ".py",
   "mimetype": "text/x-python",
   "name": "python",
   "nbconvert_exporter": "python",
   "pygments_lexer": "ipython3",
   "version": "3.9.13"
  }
 },
 "nbformat": 4,
 "nbformat_minor": 5
}
